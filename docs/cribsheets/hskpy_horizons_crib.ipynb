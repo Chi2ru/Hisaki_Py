{
 "cells": [
  {
   "cell_type": "code",
   "execution_count": 2,
   "metadata": {},
   "outputs": [
    {
     "name": "stdout",
     "output_type": "stream",
     "text": [
      "---- init function done ----\n"
     ]
    }
   ],
   "source": [
    "# Set paths (Currently, need to run this cell every ipynb file...)\n",
    "# You can add these paths to PYTHONPATH in .zshrc/.zprofile (.bashrc/.bash_profile)\n",
    "# PYTHONPATH='/Users/masunaga/work/python_git/lib_open/projects/Hisaki_py:$PYTHONPATH'\n",
    "# export PYTHONPATH\n",
    "\n",
    "import sys\n",
    "hskpypath = '/Users/masunaga/work/python_git/lib_open/projects/Hisaki_py/'  ## Revise the path as nessesary for your environment\n",
    "if hskpypath not in sys.path:\n",
    "    sys.path.append(hskpypath)\n",
    "\n",
    "mypypath = '/Users/masunaga/work/python_git/hisaki/venus/'  ## Revise the path as nessesary for your environment\n",
    "if mypypath not in sys.path:\n",
    "    sys.path.append(mypypath)\n",
    "    \n",
    "import hskinit  ## Run hskinit"
   ]
  },
  {
   "cell_type": "markdown",
   "metadata": {},
   "source": [
    "# Use horizons module"
   ]
  },
  {
   "cell_type": "code",
   "execution_count": 6,
   "metadata": {},
   "outputs": [],
   "source": [
    "from hskpy.external.horizons import HorizonsData ## import HorizonsData class"
   ]
  },
  {
   "cell_type": "code",
   "execution_count": 11,
   "metadata": {},
   "outputs": [
    {
     "name": "stdout",
     "output_type": "stream",
     "text": [
      "Reading lines from 61 to 78\n"
     ]
    }
   ],
   "source": [
    "## Read text file downloaded from Nasa Horizons. You should manually select data columns 1, 10, 13, 19, 20, 23, 24, and 44 when downloading data.\n",
    "fname = 'venus_202010test.txt'\n",
    "hrz = HorizonsData(fname)"
   ]
  },
  {
   "cell_type": "code",
   "execution_count": 12,
   "metadata": {},
   "outputs": [
    {
     "data": {
      "text/plain": [
       "{'fname': 'venus_202010test.txt',\n",
       " 'fpath': '/Volumes/Gravity/work/data/exceed/horizons_py/venus_202010test.txt',\n",
       " 'nrow': 205,\n",
       " 'sline': 60,\n",
       " 'eline': 79,\n",
       " 'max_row': 18,\n",
       " 'timeDt': array([datetime.datetime(2020, 10, 1, 0, 0),\n",
       "        datetime.datetime(2020, 10, 2, 0, 0),\n",
       "        datetime.datetime(2020, 10, 3, 0, 0),\n",
       "        datetime.datetime(2020, 10, 4, 0, 0),\n",
       "        datetime.datetime(2020, 10, 5, 0, 0),\n",
       "        datetime.datetime(2020, 10, 6, 0, 0),\n",
       "        datetime.datetime(2020, 10, 7, 0, 0),\n",
       "        datetime.datetime(2020, 10, 8, 0, 0),\n",
       "        datetime.datetime(2020, 10, 9, 0, 0),\n",
       "        datetime.datetime(2020, 10, 10, 0, 0),\n",
       "        datetime.datetime(2020, 10, 11, 0, 0),\n",
       "        datetime.datetime(2020, 10, 12, 0, 0),\n",
       "        datetime.datetime(2020, 10, 13, 0, 0),\n",
       "        datetime.datetime(2020, 10, 14, 0, 0),\n",
       "        datetime.datetime(2020, 10, 15, 0, 0),\n",
       "        datetime.datetime(2020, 10, 16, 0, 0),\n",
       "        datetime.datetime(2020, 10, 17, 0, 0),\n",
       "        datetime.datetime(2020, 10, 18, 0, 0)], dtype=object),\n",
       " 'ra': [<Angle 9.988725 hourangle>,\n",
       "  <Angle 10.06461667 hourangle>,\n",
       "  <Angle 10.14043611 hourangle>,\n",
       "  <Angle 10.21618611 hourangle>,\n",
       "  <Angle 10.29186389 hourangle>,\n",
       "  <Angle 10.36747222 hourangle>,\n",
       "  <Angle 10.44301111 hourangle>,\n",
       "  <Angle 10.51848333 hourangle>,\n",
       "  <Angle 10.59388333 hourangle>,\n",
       "  <Angle 10.66921944 hourangle>,\n",
       "  <Angle 10.74448889 hourangle>,\n",
       "  <Angle 10.8197 hourangle>,\n",
       "  <Angle 10.89484722 hourangle>,\n",
       "  <Angle 10.96993889 hourangle>,\n",
       "  <Angle 11.04497222 hourangle>,\n",
       "  <Angle 11.11995833 hourangle>,\n",
       "  <Angle 11.19489167 hourangle>,\n",
       "  <Angle 11.26978333 hourangle>],\n",
       " 'dec': [<Angle 12.56713889 deg>,\n",
       "  <Angle 12.22305556 deg>,\n",
       "  <Angle 11.87263889 deg>,\n",
       "  <Angle 11.51605556 deg>,\n",
       "  <Angle 11.15341667 deg>,\n",
       "  <Angle 10.78491667 deg>,\n",
       "  <Angle 10.41063889 deg>,\n",
       "  <Angle 10.03080556 deg>,\n",
       "  <Angle 9.64552778 deg>,\n",
       "  <Angle 9.255 deg>,\n",
       "  <Angle 8.85938889 deg>,\n",
       "  <Angle 8.45880556 deg>,\n",
       "  <Angle 8.0535 deg>,\n",
       "  <Angle 7.64358333 deg>,\n",
       "  <Angle 7.22925 deg>,\n",
       "  <Angle 6.81072222 deg>,\n",
       "  <Angle 6.38813889 deg>,\n",
       "  <Angle 5.96169444 deg>],\n",
       " 'illu': array([71.58117, 71.93663, 72.28933, 72.6393 , 72.98655, 73.33109,\n",
       "        73.67294, 74.01211, 74.34862, 74.68248, 75.01372, 75.34236,\n",
       "        75.66841, 75.99189, 76.31284, 76.63126, 76.9472 , 77.26065]),\n",
       " 'appdia': array([15.55658, 15.45748, 15.36003, 15.2642 , 15.16997, 15.0773 ,\n",
       "        14.98616, 14.89653, 14.80837, 14.72166, 14.63638, 14.55249,\n",
       "        14.46997, 14.3888 , 14.30895, 14.23039, 14.15311, 14.07706]),\n",
       " 'st_dist': array([0.72006063, 0.71995885, 0.7198597 , 0.71976328, 0.71966966,\n",
       "        0.71957892, 0.71949114, 0.71940637, 0.71932469, 0.71924617,\n",
       "        0.71917087, 0.71909885, 0.71903018, 0.71896489, 0.71890306,\n",
       "        0.71884473, 0.71878994, 0.71873874]),\n",
       " 'et_dist': array([1.07275387, 1.07963186, 1.08648142, 1.09330211, 1.10009348,\n",
       "        1.10685504, 1.11358634, 1.12028688, 1.12695618, 1.13359376,\n",
       "        1.14019914, 1.14677186, 1.15331148, 1.1598176 , 1.16628991,\n",
       "        1.17272819, 1.1791323 , 1.18550226]),\n",
       " 'sot_angle': array([40.4458, 40.267 , 40.0865, 39.9044, 39.7206, 39.5352, 39.3483,\n",
       "        39.1599, 38.9701, 38.7789, 38.5863, 38.3925, 38.1974, 38.0011,\n",
       "        37.8036, 37.605 , 37.4052, 37.2044]),\n",
       " 'sot_dir': array([1, 1, 1, 1, 1, 1, 1, 1, 1, 1, 1, 1, 1, 1, 1, 1, 1, 1]),\n",
       " 'sto_angle': array([64.4251, 63.9727, 63.522 , 63.0731, 62.6259, 62.1804, 61.7366,\n",
       "        61.2944, 60.8539, 60.4149, 59.9774, 59.5415, 59.1071, 58.6742,\n",
       "        58.2427, 57.8125, 57.3837, 56.9563]),\n",
       " 'Ls': array([205.3927979, 207.0096426, 208.6269393, 210.2446761, 211.8628407,\n",
       "        213.4814207, 215.100403 , 216.7197743, 218.339521 , 219.9596291,\n",
       "        221.5800845, 223.2008726, 224.8219785, 226.4433872, 228.0650833,\n",
       "        229.6870512, 231.309275 , 232.9317388])}"
      ]
     },
     "execution_count": 12,
     "metadata": {},
     "output_type": "execute_result"
    }
   ],
   "source": [
    "vars(hrz) ## look inside of the hrz data object"
   ]
  },
  {
   "cell_type": "code",
   "execution_count": 14,
   "metadata": {},
   "outputs": [
    {
     "data": {
      "text/plain": [
       "array([datetime.datetime(2020, 10, 1, 0, 0),\n",
       "       datetime.datetime(2020, 10, 2, 0, 0),\n",
       "       datetime.datetime(2020, 10, 3, 0, 0),\n",
       "       datetime.datetime(2020, 10, 4, 0, 0),\n",
       "       datetime.datetime(2020, 10, 5, 0, 0),\n",
       "       datetime.datetime(2020, 10, 6, 0, 0),\n",
       "       datetime.datetime(2020, 10, 7, 0, 0),\n",
       "       datetime.datetime(2020, 10, 8, 0, 0),\n",
       "       datetime.datetime(2020, 10, 9, 0, 0),\n",
       "       datetime.datetime(2020, 10, 10, 0, 0),\n",
       "       datetime.datetime(2020, 10, 11, 0, 0),\n",
       "       datetime.datetime(2020, 10, 12, 0, 0),\n",
       "       datetime.datetime(2020, 10, 13, 0, 0),\n",
       "       datetime.datetime(2020, 10, 14, 0, 0),\n",
       "       datetime.datetime(2020, 10, 15, 0, 0),\n",
       "       datetime.datetime(2020, 10, 16, 0, 0),\n",
       "       datetime.datetime(2020, 10, 17, 0, 0),\n",
       "       datetime.datetime(2020, 10, 18, 0, 0)], dtype=object)"
      ]
     },
     "execution_count": 14,
     "metadata": {},
     "output_type": "execute_result"
    }
   ],
   "source": [
    "hrz.timeDt ## hrz object holds time information as an array of datetime objects"
   ]
  },
  {
   "cell_type": "code",
   "execution_count": 17,
   "metadata": {},
   "outputs": [
    {
     "name": "stdout",
     "output_type": "stream",
     "text": [
      "[15.55658 15.45748 15.36003 15.2642  15.16997 15.0773  14.98616 14.89653\n",
      " 14.80837 14.72166 14.63638 14.55249 14.46997 14.3888  14.30895 14.23039\n",
      " 14.15311 14.07706]\n",
      "[71.58117 71.93663 72.28933 72.6393  72.98655 73.33109 73.67294 74.01211\n",
      " 74.34862 74.68248 75.01372 75.34236 75.66841 75.99189 76.31284 76.63126\n",
      " 76.9472  77.26065]\n"
     ]
    }
   ],
   "source": [
    "print(hrz.appdia) ## hrz object holds apparent diameter\n",
    "print(hrz.illu) ## hrz object also holds illumination area in percentage"
   ]
  },
  {
   "cell_type": "code",
   "execution_count": 18,
   "metadata": {},
   "outputs": [],
   "source": [
    "import matplotlib.pyplot as plt"
   ]
  },
  {
   "cell_type": "code",
   "execution_count": 32,
   "metadata": {},
   "outputs": [
    {
     "data": {
      "text/plain": [
       "Text(41.875, 0.5, 'Ls (deg)')"
      ]
     },
     "execution_count": 32,
     "metadata": {},
     "output_type": "execute_result"
    },
    {
     "data": {
      "image/png": "[encoded data removed]",
      "text/plain": [
       "<Figure size 576x576 with 8 Axes>"
      ]
     },
     "metadata": {
      "needs_background": "light"
     },
     "output_type": "display_data"
    }
   ],
   "source": [
    "## Plotting data\n",
    "fig, ax = plt.subplots(8,1, figsize=(8,8))\n",
    "ax[0].plot(hrz.timeDt, hrz.appdia)\n",
    "ax[1].plot(hrz.timeDt, hrz.illu)\n",
    "ax[2].plot(hrz.timeDt, hrz.st_dist)\n",
    "ax[3].plot(hrz.timeDt, hrz.et_dist)\n",
    "ax[4].plot(hrz.timeDt, hrz.sot_angle)\n",
    "ax[5].plot(hrz.timeDt, hrz.sot_dir)\n",
    "ax[6].plot(hrz.timeDt, hrz.sto_angle)\n",
    "ax[7].plot(hrz.timeDt, hrz.Ls)\n",
    "plt.tight_layout()\n",
    "\n",
    "ax[0].set_ylabel('app.dia.')\n",
    "ax[1].set_ylabel('illu. area')\n",
    "ax[2].set_ylabel('st_dist (AU)')\n",
    "ax[3].set_ylabel('et_dist (AU)')\n",
    "ax[4].set_ylabel('sot_angle')\n",
    "ax[5].set_ylabel('sot_dir')  ## if leading (1) or trailing (-1) \n",
    "ax[6].set_ylabel('sto_angle')\n",
    "ax[7].set_ylabel('Ls (deg)')"
   ]
  },
  {
   "cell_type": "markdown",
   "metadata": {},
   "source": [
    "# Horizons module has planet view plotters (currently for Venus and Mars)"
   ]
  },
  {
   "cell_type": "code",
   "execution_count": 3,
   "metadata": {},
   "outputs": [
    {
     "name": "stderr",
     "output_type": "stream",
     "text": [
      "WARNING: IERSStaleWarning: leap-second file is expired. [astropy.utils.iers.iers]\n"
     ]
    }
   ],
   "source": [
    "from hskpy.external.horizons import plot_venus_from_earth ## import venus-look plotter"
   ]
  },
  {
   "cell_type": "code",
   "execution_count": 4,
   "metadata": {},
   "outputs": [
    {
     "name": "stdout",
     "output_type": "stream",
     "text": [
      "Reading lines from 60 to 4077\n"
     ]
    },
    {
     "data": {
      "image/png": "[encoded data removed]",
      "text/plain": [
       "<Figure size 432x288 with 1 Axes>"
      ]
     },
     "metadata": {
      "needs_background": "light"
     },
     "output_type": "display_data"
    }
   ],
   "source": [
    "plot_venus_from_earth('20201012', slit=60) ## input date. "
   ]
  },
  {
   "cell_type": "code",
   "execution_count": null,
   "metadata": {},
   "outputs": [],
   "source": []
  }
 ],
 "metadata": {
  "kernelspec": {
   "display_name": "Python 3",
   "language": "python",
   "name": "python3"
  },
  "language_info": {
   "codemirror_mode": {
    "name": "ipython",
    "version": 3
   },
   "file_extension": ".py",
   "mimetype": "text/x-python",
   "name": "python",
   "nbconvert_exporter": "python",
   "pygments_lexer": "ipython3",
   "version": "3.9.1"
  }
 },
 "nbformat": 4,
 "nbformat_minor": 4
}
